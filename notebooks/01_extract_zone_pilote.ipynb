{
 "cells": [
  {
   "cell_type": "code",
   "execution_count": 4,
   "id": "0c18e809",
   "metadata": {},
   "outputs": [],
   "source": [
    "import geopandas as gpd\n",
    "import os"
   ]
  },
  {
   "cell_type": "code",
   "execution_count": null,
   "id": "31597b7b",
   "metadata": {},
   "outputs": [],
   "source": [
    "os.environ[\"SHAPE_RESTORE_SHX\"] = \"YES\"\n",
    "# 1. Charger le RPG du département\n",
    "rpg = gpd.read_file(\"../data/raw/PARCELLES_GRAPHIQUES.shp\")  #Occitanie"
   ]
  },
  {
   "cell_type": "code",
   "execution_count": 8,
   "id": "4b5df216",
   "metadata": {},
   "outputs": [
    {
     "name": "stdout",
     "output_type": "stream",
     "text": [
      "  ID_PARCEL  SURF_PARC CODE_CULTU CODE_GROUP CULTURE_D1 CULTURE_D2  \\\n",
      "0        13       1.74        SOG          4       None       None   \n",
      "1        16       2.69        VRC         21       None       None   \n",
      "2        18       5.54        BDH          4       None       None   \n",
      "3        21      15.56        CZH          5       None       None   \n",
      "4        23       4.69        BTH          1       None       None   \n",
      "\n",
      "                                            geometry  \n",
      "0  POLYGON ((504412.851 6310493.035, 504502.328 6...  \n",
      "1  POLYGON ((699891.619 6247707.529, 699888.078 6...  \n",
      "2  POLYGON ((598821.728 6238296.806, 598710.458 6...  \n",
      "3  POLYGON ((568678.715 6266116.399, 568683.23 62...  \n",
      "4  POLYGON ((536861.456 6243931.487, 536886.388 6...  \n"
     ]
    }
   ],
   "source": [
    "# Vérifier la structure\n",
    "print(rpg.head())"
   ]
  },
  {
   "cell_type": "code",
   "execution_count": 11,
   "id": "9ae1fb8a",
   "metadata": {},
   "outputs": [
    {
     "name": "stdout",
     "output_type": "stream",
     "text": [
      "[None 'DFV' 'DCZ' 'DMD' 'DTR' 'DVN' 'DSF' 'DDC' 'DFT' 'DRG' 'DVS' 'DLZ'\n",
      " 'DTN' 'DMH' 'DSH' 'DPH' 'DPT' 'DSN' 'DPS' 'DNT' 'DML' 'DSG' 'DLT' 'DLL'\n",
      " 'DRD' 'DNG' 'DBM' 'DSJ' 'DSR' 'DCM' 'DFN' 'DPC' 'DCF' 'DLP' 'DBR' 'DGS'\n",
      " 'DLN' 'DFL' 'DNV']\n"
     ]
    }
   ],
   "source": [
    "print(rpg['CULTURE_D1'].unique())"
   ]
  },
  {
   "cell_type": "code",
   "execution_count": 15,
   "id": "de30d4e5",
   "metadata": {},
   "outputs": [],
   "source": [
    "# Exemple A : filtrer par culture principale\n",
    "# Ici filtre sur Colza\n",
    "zone = rpg[rpg['CULTURE_D1'].str.contains('DCZ', case=False, na=False)] "
   ]
  },
  {
   "cell_type": "code",
   "execution_count": 16,
   "id": "c3de1ce7",
   "metadata": {},
   "outputs": [],
   "source": [
    "# Choisir les colonnes utiles\n",
    "zone_pilote = zone[['ID_PARCEL', 'CULTURE_D1', 'SURF_PARC', 'geometry']]"
   ]
  },
  {
   "cell_type": "code",
   "execution_count": 22,
   "id": "e7628043",
   "metadata": {},
   "outputs": [],
   "source": [
    "zone_pilote = zone_pilote[zone_pilote['SURF_PARC'] > 0.2]"
   ]
  },
  {
   "cell_type": "code",
   "execution_count": 23,
   "id": "3cdc2286",
   "metadata": {},
   "outputs": [],
   "source": [
    "zone_pilote = zone_pilote.to_crs(epsg=4326)"
   ]
  },
  {
   "cell_type": "code",
   "execution_count": 24,
   "id": "039054eb",
   "metadata": {},
   "outputs": [],
   "source": [
    "# 5. Sauvegarder en GeoJSON\n",
    "zone_pilote.to_file(\"../data/zone_pilote.geojson\", driver=\"GeoJSON\")"
   ]
  }
 ],
 "metadata": {
  "kernelspec": {
   "display_name": "venv (3.13.9)",
   "language": "python",
   "name": "python3"
  },
  "language_info": {
   "codemirror_mode": {
    "name": "ipython",
    "version": 3
   },
   "file_extension": ".py",
   "mimetype": "text/x-python",
   "name": "python",
   "nbconvert_exporter": "python",
   "pygments_lexer": "ipython3",
   "version": "3.13.9"
  }
 },
 "nbformat": 4,
 "nbformat_minor": 5
}
